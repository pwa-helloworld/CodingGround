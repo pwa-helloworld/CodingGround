{
 "cells": [
  {
   "cell_type": "code",
   "execution_count": 4,
   "source": [
    "# 1. Getting Start\r\n",
    "print(\"This is a new notebook!\")\r\n",
    "print(\"helloworld\")"
   ],
   "outputs": [
    {
     "output_type": "stream",
     "name": "stdout",
     "text": [
      "This is a new notebook!\n",
      "helloworld\n"
     ]
    }
   ],
   "metadata": {}
  },
  {
   "cell_type": "code",
   "execution_count": 5,
   "source": [
    "# 2. Variables\r\n",
    "x = True # boolean\r\n",
    "y = \"this is a string\" # string\r\n",
    "z = 3 # integer\r\n",
    "h = 0.5 # float\r\n",
    "k = [\"item0\", \"item1\", \"item2\"] # list\r\n",
    "\r\n",
    "print(x, y, z, h)\r\n",
    "print(\"list group: \", k)"
   ],
   "outputs": [
    {
     "output_type": "stream",
     "name": "stdout",
     "text": [
      "True this is a string 3 0.5\n",
      "list group:  ['item0', 'item1', 'item2']\n"
     ]
    }
   ],
   "metadata": {}
  },
  {
   "cell_type": "code",
   "execution_count": 18,
   "source": [
    "# list -> mutable, ordered collection of items, store more than one data type\r\n",
    "aGroup = [\"item0\", \"item1\", \"item2\"]\r\n",
    "\r\n",
    "aGroup.append(\"item3\")\r\n",
    "aGroup.remove(\"item2\")\r\n",
    "aGroup.sort()\r\n",
    "\r\n",
    "print(aGroup)\r\n",
    "print(aGroup[2])"
   ],
   "outputs": [
    {
     "output_type": "stream",
     "name": "stdout",
     "text": [
      "['item0', 'item1', 'item3']\n",
      "item3\n"
     ]
    }
   ],
   "metadata": {}
  },
  {
   "cell_type": "code",
   "execution_count": 21,
   "source": [
    "# Array ->mutable, ordered collection of items, store only similar data type\r\n",
    "\r\n",
    "# importing \"array\" for array creations\r\n",
    "import array as arr\r\n",
    "   \r\n",
    "# creating an array with integer type\r\n",
    "a = arr.array('i', [1, 2, 3])\r\n",
    "   \r\n",
    "# printing original array\r\n",
    "print (\"The new created array is : \", end =\"\") # end = \"\" -> avoid new line\r\n",
    "for i in range (0, 3):\r\n",
    "    print (a[i], end =\" \")\r\n",
    "print()\r\n",
    "   \r\n",
    "# creating an array with float type\r\n",
    "b = arr.array('d', [2.5, 3.2, 3.3])\r\n",
    "   \r\n",
    "# printing original array\r\n",
    "print (\"The new created array is : \", end =\" \")\r\n",
    "for i in range (0, 3):\r\n",
    "    print (b[i], end =\" \")"
   ],
   "outputs": [
    {
     "output_type": "stream",
     "name": "stdout",
     "text": [
      "The new created array is : 1 2 3 \n",
      "The new created array is :  2.5 3.2 3.3 "
     ]
    }
   ],
   "metadata": {}
  },
  {
   "cell_type": "code",
   "execution_count": 24,
   "source": [
    "# If\r\n",
    "x = 5\r\n",
    "y = 3\r\n",
    "if (x < y): # if (() or () and ()):\r\n",
    "  print(\"x < y\")\r\n",
    "else:\r\n",
    "  print(\"x > y\")"
   ],
   "outputs": [
    {
     "output_type": "stream",
     "name": "stdout",
     "text": [
      "x > y\n"
     ]
    }
   ],
   "metadata": {}
  },
  {
   "cell_type": "code",
   "execution_count": 33,
   "source": [
    "# For loop\r\n",
    "for i in range (0, 5):\r\n",
    "  print(i, end=\" \")\r\n",
    "  i = i+1\r\n",
    "print() # new line\r\n",
    "\r\n",
    "aGroup = [\"item0\", \"item1\", \"item2\"]\r\n",
    "for item in aGroup: # no \"range\" for string\r\n",
    "  print(item, end=\" \")"
   ],
   "outputs": [
    {
     "output_type": "stream",
     "name": "stdout",
     "text": [
      "0 1 2 3 4 \n",
      "item0 item1 item2 "
     ]
    }
   ],
   "metadata": {}
  },
  {
   "cell_type": "code",
   "execution_count": null,
   "source": [
    "# While loop"
   ],
   "outputs": [],
   "metadata": {}
  }
 ],
 "metadata": {
  "orig_nbformat": 4,
  "language_info": {
   "name": "python",
   "version": "3.9.7",
   "mimetype": "text/x-python",
   "codemirror_mode": {
    "name": "ipython",
    "version": 3
   },
   "pygments_lexer": "ipython3",
   "nbconvert_exporter": "python",
   "file_extension": ".py"
  },
  "kernelspec": {
   "name": "python3",
   "display_name": "Python 3.9.7 64-bit"
  },
  "interpreter": {
   "hash": "37d0c700241230d56dc1d062ca6e4706bb017718c4f2d4088812ad1cb423046e"
  }
 },
 "nbformat": 4,
 "nbformat_minor": 2
}